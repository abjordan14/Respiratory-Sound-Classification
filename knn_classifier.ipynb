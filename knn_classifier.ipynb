{
 "cells": [
  {
   "cell_type": "markdown",
   "id": "f7655fd3",
   "metadata": {},
   "source": [
    "Name: Alexis Jordan"
   ]
  },
  {
   "cell_type": "markdown",
   "id": "afe64bdb",
   "metadata": {},
   "source": [
    "# KNN Classifier"
   ]
  },
  {
   "cell_type": "markdown",
   "id": "a0f8ec0f",
   "metadata": {},
   "source": [
    "Here, we will use a KNN classifier to classify our respiratory sounds. We'll try out one KNN and then move on to Grid Search to find the best parameters."
   ]
  },
  {
   "cell_type": "code",
   "execution_count": 8,
   "id": "27b5f102",
   "metadata": {},
   "outputs": [],
   "source": [
    "import pandas as pd\n",
    "import numpy as np\n",
    "import librosa as lb"
   ]
  },
  {
   "cell_type": "code",
   "execution_count": 2,
   "id": "6704a652",
   "metadata": {},
   "outputs": [],
   "source": [
    "train = pd.read_csv('train.csv')\n",
    "val = pd.read_csv('val.csv')"
   ]
  },
  {
   "cell_type": "markdown",
   "id": "9e8648d1",
   "metadata": {},
   "source": [
    "Let's grab our labels"
   ]
  },
  {
   "cell_type": "code",
   "execution_count": 3,
   "id": "1d8bf891",
   "metadata": {},
   "outputs": [],
   "source": [
    "y_train = train.disease\n",
    "y_val = val.disease"
   ]
  },
  {
   "cell_type": "code",
   "execution_count": 5,
   "id": "675b1b38",
   "metadata": {},
   "outputs": [
    {
     "data": {
      "text/plain": [
       "0            COPD\n",
       "1            COPD\n",
       "2       Pneumonia\n",
       "3       Pneumonia\n",
       "4            COPD\n",
       "          ...    \n",
       "5513         COPD\n",
       "5514         COPD\n",
       "5515         COPD\n",
       "5516         COPD\n",
       "5517         COPD\n",
       "Name: disease, Length: 5518, dtype: object"
      ]
     },
     "execution_count": 5,
     "metadata": {},
     "output_type": "execute_result"
    }
   ],
   "source": [
    "y_train"
   ]
  },
  {
   "cell_type": "markdown",
   "id": "85ee5c57",
   "metadata": {},
   "source": [
    "### Encoding our data"
   ]
  },
  {
   "cell_type": "markdown",
   "id": "eb0645ac",
   "metadata": {},
   "source": [
    "We'll use label encoder to encode our classes"
   ]
  },
  {
   "cell_type": "code",
   "execution_count": 7,
   "id": "3ae78f2e",
   "metadata": {},
   "outputs": [],
   "source": [
    "from sklearn.preprocessing import LabelEncoder\n",
    "\n",
    "le = LabelEncoder()\n",
    "\n",
    "y_train_enc = le.fit_transform(y_train)\n",
    "y_val_enc = le.fit_transform(y_val)"
   ]
  },
  {
   "cell_type": "markdown",
   "id": "fdf368a4",
   "metadata": {},
   "source": [
    "A function to grab our features. We'll be using MFCC based on its popularity in the papers. We'll take the mean of these features as it is requisite that the numpy arrays are of the same size"
   ]
  },
  {
   "cell_type": "code",
   "execution_count": 9,
   "id": "2ce0fab7",
   "metadata": {},
   "outputs": [],
   "source": [
    "def getFeatures(path):\n",
    "    soundArr, sample_rate = lb.load(path)\n",
    "    mfcc = lb.feature.mfcc(y = soundArr, sr = sample_rate)\n",
    "    \n",
    "    return mfcc"
   ]
  },
  {
   "cell_type": "code",
   "execution_count": 10,
   "id": "7e636836",
   "metadata": {},
   "outputs": [],
   "source": [
    "root = 'processed_audio_files/'\n",
    "\n",
    "mfcc = []\n",
    "\n",
    "for idx, row in val.iterrows():\n",
    "    path = root + row['filename']\n",
    "    a = getFeatures(path)\n",
    "    mfcc.append(np.mean(a))\n",
    "    \n",
    "mfcc_val = np.array(mfcc)"
   ]
  },
  {
   "cell_type": "markdown",
   "id": "377f3315",
   "metadata": {},
   "source": [
    "Let's double check to make sure that the lengths match"
   ]
  },
  {
   "cell_type": "code",
   "execution_count": 11,
   "id": "05417ee9",
   "metadata": {},
   "outputs": [
    {
     "name": "stdout",
     "output_type": "stream",
     "text": [
      "1380\n",
      "1380\n"
     ]
    }
   ],
   "source": [
    "print(len(mfcc_val))\n",
    "print(len(y_val_enc))"
   ]
  },
  {
   "cell_type": "code",
   "execution_count": 12,
   "id": "30fbd17c",
   "metadata": {},
   "outputs": [],
   "source": [
    "root = 'processed_audio_files/'\n",
    "mfcc = []\n",
    "\n",
    "for idx, row in train.iterrows():\n",
    "    path = root + row['filename']\n",
    "    a = getFeatures(path)\n",
    "    mfcc.append(np.mean(a))\n",
    "    \n",
    "mfcc_train = np.array(mfcc)"
   ]
  },
  {
   "cell_type": "code",
   "execution_count": 13,
   "id": "ec3ae99e",
   "metadata": {},
   "outputs": [
    {
     "name": "stdout",
     "output_type": "stream",
     "text": [
      "5518\n",
      "5518\n"
     ]
    }
   ],
   "source": [
    "print(len(mfcc_train))\n",
    "print(len(y_train_enc))"
   ]
  },
  {
   "cell_type": "markdown",
   "id": "ae3eb35b",
   "metadata": {},
   "source": [
    "### Reshaping\n",
    "\n",
    "In order to properly use these new arrays of values, we will have to reshape them"
   ]
  },
  {
   "cell_type": "code",
   "execution_count": 14,
   "id": "608e5346",
   "metadata": {},
   "outputs": [],
   "source": [
    "train_reshape = mfcc_train.reshape(-1, 1)\n",
    "val_reshape = mfcc_val.reshape(-1, 1)"
   ]
  },
  {
   "cell_type": "markdown",
   "id": "3950f1af",
   "metadata": {},
   "source": [
    "### Classifier"
   ]
  },
  {
   "cell_type": "code",
   "execution_count": 16,
   "id": "1bbf3b40",
   "metadata": {},
   "outputs": [
    {
     "name": "stdout",
     "output_type": "stream",
     "text": [
      "[3 3 3 ... 3 3 3]\n"
     ]
    }
   ],
   "source": [
    "from sklearn.neighbors import KNeighborsClassifier\n",
    "\n",
    "knn = KNeighborsClassifier(n_neighbors = 20)\n",
    "knn.fit(train_reshape, y_train_enc)\n",
    "\n",
    "y_pred = knn.predict(val_reshape)\n",
    "\n",
    "print(y_pred)"
   ]
  },
  {
   "cell_type": "code",
   "execution_count": 17,
   "id": "93031f54",
   "metadata": {},
   "outputs": [
    {
     "data": {
      "text/plain": [
       "0.8318840579710145"
      ]
     },
     "execution_count": 17,
     "metadata": {},
     "output_type": "execute_result"
    }
   ],
   "source": [
    "from sklearn import metrics\n",
    "\n",
    "metrics.accuracy_score(y_val_enc, y_pred)"
   ]
  },
  {
   "cell_type": "markdown",
   "id": "82d40f99",
   "metadata": {},
   "source": [
    "### Grid Search with KNN"
   ]
  },
  {
   "cell_type": "code",
   "execution_count": 18,
   "id": "d8390cd6",
   "metadata": {},
   "outputs": [],
   "source": [
    "from sklearn.model_selection import GridSearchCV\n",
    "from sklearn.preprocessing import StandardScaler\n",
    "from sklearn.decomposition import PCA"
   ]
  },
  {
   "cell_type": "code",
   "execution_count": 20,
   "id": "5657e4ef",
   "metadata": {},
   "outputs": [],
   "source": [
    "ss = StandardScaler()\n",
    "\n",
    "train_scaled = ss.fit_transform(train_reshape)\n",
    "val_scaled = ss.fit_transform(val_reshape)"
   ]
  },
  {
   "cell_type": "code",
   "execution_count": 21,
   "id": "87a843e4",
   "metadata": {},
   "outputs": [
    {
     "data": {
      "text/plain": [
       "GridSearchCV(cv=5, estimator=KNeighborsClassifier(n_neighbors=20), n_jobs=-1,\n",
       "             param_grid={'metric': ['euclidean', 'manhattan'],\n",
       "                         'n_neighbors': [25, 50, 100, 150, 250],\n",
       "                         'weights': ['uniform', 'distance']})"
      ]
     },
     "execution_count": 21,
     "metadata": {},
     "output_type": "execute_result"
    }
   ],
   "source": [
    "grid_params = {'n_neighbors': [25, 50, 100, 150, 250],\n",
    "              'weights': ['uniform', 'distance'],\n",
    "              'metric': ['euclidean', 'manhattan']}\n",
    "\n",
    "model = GridSearchCV(knn, grid_params, cv = 5, n_jobs = -1)\n",
    "\n",
    "model.fit(train_scaled, y_train_enc)"
   ]
  },
  {
   "cell_type": "code",
   "execution_count": 22,
   "id": "14d1a4ba",
   "metadata": {},
   "outputs": [
    {
     "name": "stdout",
     "output_type": "stream",
     "text": [
      "Model Score: 0.8333333333333334\n",
      "Best Parameters: {'metric': 'euclidean', 'n_neighbors': 100, 'weights': 'uniform'}\n"
     ]
    }
   ],
   "source": [
    "print(f'Model Score: {model.score(val_scaled, y_val_enc)}')\n",
    "print(f'Best Parameters: {model.best_params_}')"
   ]
  },
  {
   "cell_type": "markdown",
   "id": "cb0ad3f1",
   "metadata": {},
   "source": [
    "#### 83.333% accuracy"
   ]
  },
  {
   "cell_type": "code",
   "execution_count": null,
   "id": "6c74a9d0",
   "metadata": {},
   "outputs": [],
   "source": []
  }
 ],
 "metadata": {
  "kernelspec": {
   "display_name": "Python 3 (ipykernel)",
   "language": "python",
   "name": "python3"
  },
  "language_info": {
   "codemirror_mode": {
    "name": "ipython",
    "version": 3
   },
   "file_extension": ".py",
   "mimetype": "text/x-python",
   "name": "python",
   "nbconvert_exporter": "python",
   "pygments_lexer": "ipython3",
   "version": "3.9.7"
  }
 },
 "nbformat": 4,
 "nbformat_minor": 5
}
