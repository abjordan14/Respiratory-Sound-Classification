{
 "cells": [
  {
   "cell_type": "markdown",
   "id": "cab4f1f6",
   "metadata": {},
   "source": [
    "<strong> Name </strong> : Alexis Jordan"
   ]
  },
  {
   "cell_type": "markdown",
   "id": "6f1b3f4c",
   "metadata": {},
   "source": [
    "## Audio Preprocessing"
   ]
  },
  {
   "cell_type": "markdown",
   "id": "95160423",
   "metadata": {},
   "source": [
    "The purpose of this script is to preprocess our data to put it in better condition for our models. In addition to normalizing our audio clips, we will also build a dataset of diagnoses, filenames and patient id to make file extraction easier. \n",
    "This code was adapted from: "
   ]
  },
  {
   "cell_type": "markdown",
   "id": "4c332595",
   "metadata": {},
   "source": [
    "#### Imports"
   ]
  },
  {
   "cell_type": "code",
   "execution_count": 37,
   "id": "2c20075c",
   "metadata": {},
   "outputs": [],
   "source": [
    "import numpy as np\n",
    "import pandas as pd\n",
    "import tensorflow as tf\n",
    "import matplotlib.pyplot as plt\n",
    "import seaborn as sns\n",
    "import librosa as lb\n",
    "import librosa.display\n",
    "import keras"
   ]
  },
  {
   "cell_type": "code",
   "execution_count": 2,
   "id": "87e67242",
   "metadata": {},
   "outputs": [],
   "source": [
    "import os"
   ]
  },
  {
   "cell_type": "markdown",
   "id": "6dfad3e3",
   "metadata": {},
   "source": [
    "This is our patient data, we will only need to pull in patient id and disease diagnosis as the other data is not relevant to our task. "
   ]
  },
  {
   "cell_type": "code",
   "execution_count": 3,
   "id": "fbac1738",
   "metadata": {},
   "outputs": [],
   "source": [
    "patient_data = pd.read_csv('Respiratory_Sound_Database/patient_diagnosis.csv', names=['pid', 'disease'])"
   ]
  },
  {
   "cell_type": "code",
   "execution_count": 4,
   "id": "d4c1786d",
   "metadata": {},
   "outputs": [
    {
     "data": {
      "text/html": [
       "<div>\n",
       "<style scoped>\n",
       "    .dataframe tbody tr th:only-of-type {\n",
       "        vertical-align: middle;\n",
       "    }\n",
       "\n",
       "    .dataframe tbody tr th {\n",
       "        vertical-align: top;\n",
       "    }\n",
       "\n",
       "    .dataframe thead th {\n",
       "        text-align: right;\n",
       "    }\n",
       "</style>\n",
       "<table border=\"1\" class=\"dataframe\">\n",
       "  <thead>\n",
       "    <tr style=\"text-align: right;\">\n",
       "      <th></th>\n",
       "      <th>pid</th>\n",
       "      <th>disease</th>\n",
       "    </tr>\n",
       "  </thead>\n",
       "  <tbody>\n",
       "    <tr>\n",
       "      <th>0</th>\n",
       "      <td>101</td>\n",
       "      <td>URTI</td>\n",
       "    </tr>\n",
       "    <tr>\n",
       "      <th>1</th>\n",
       "      <td>102</td>\n",
       "      <td>Healthy</td>\n",
       "    </tr>\n",
       "    <tr>\n",
       "      <th>2</th>\n",
       "      <td>103</td>\n",
       "      <td>Asthma</td>\n",
       "    </tr>\n",
       "    <tr>\n",
       "      <th>3</th>\n",
       "      <td>104</td>\n",
       "      <td>COPD</td>\n",
       "    </tr>\n",
       "    <tr>\n",
       "      <th>4</th>\n",
       "      <td>105</td>\n",
       "      <td>URTI</td>\n",
       "    </tr>\n",
       "  </tbody>\n",
       "</table>\n",
       "</div>"
      ],
      "text/plain": [
       "   pid  disease\n",
       "0  101     URTI\n",
       "1  102  Healthy\n",
       "2  103   Asthma\n",
       "3  104     COPD\n",
       "4  105     URTI"
      ]
     },
     "execution_count": 4,
     "metadata": {},
     "output_type": "execute_result"
    }
   ],
   "source": [
    "patient_data.head()"
   ]
  },
  {
   "cell_type": "markdown",
   "id": "2bbb5ded",
   "metadata": {},
   "source": [
    "The following is an example of the text files that accompany each audio file. <br>\n",
    "For an example file \"160_1b3_A1_mc_AKGC417.txt\" the formatting as follows:\n",
    "1. 160 = patient id\n",
    "2. 1b3 = recording index\n",
    "3. Al = chest location, in this case Anterior Left\n",
    "    1. Other options: Trachea (Tc), Anterior(A), Posterior (P), Lateral (L) || left (l) and right (r)\n",
    "4. Acquisition Mode\n",
    "    1. mc: multichannel (as opposed to sc: single channel)\n",
    "5. Recording Equipment\n",
    "    1. AKGC417L - AKG Microphone\n",
    "    2. LittC2SE - 3M Littmann Classic II SE Stethoscope\n",
    "    3. Litt3200 - 3M Litmmann 3200 Electronic Stethoscope\n",
    "    4. Meditron - WelchAllyn Meditron Master Elite Electronic Stethoscope"
   ]
  },
  {
   "cell_type": "code",
   "execution_count": 13,
   "id": "6165ecce",
   "metadata": {},
   "outputs": [],
   "source": [
    "df = pd.read_csv('Respiratory_Sound_Database/audio_and_txt_files/160_1b3_Al_mc_AKGC417L.txt', header=None, sep='\\t', names=['start', 'end', 'cracks', 'wheezes'])"
   ]
  },
  {
   "cell_type": "code",
   "execution_count": 14,
   "id": "ab4bd967",
   "metadata": {},
   "outputs": [
    {
     "data": {
      "text/html": [
       "<div>\n",
       "<style scoped>\n",
       "    .dataframe tbody tr th:only-of-type {\n",
       "        vertical-align: middle;\n",
       "    }\n",
       "\n",
       "    .dataframe tbody tr th {\n",
       "        vertical-align: top;\n",
       "    }\n",
       "\n",
       "    .dataframe thead th {\n",
       "        text-align: right;\n",
       "    }\n",
       "</style>\n",
       "<table border=\"1\" class=\"dataframe\">\n",
       "  <thead>\n",
       "    <tr style=\"text-align: right;\">\n",
       "      <th></th>\n",
       "      <th>start</th>\n",
       "      <th>end</th>\n",
       "      <th>cracks</th>\n",
       "      <th>wheezes</th>\n",
       "    </tr>\n",
       "  </thead>\n",
       "  <tbody>\n",
       "    <tr>\n",
       "      <th>0</th>\n",
       "      <td>1.862</td>\n",
       "      <td>5.718</td>\n",
       "      <td>0</td>\n",
       "      <td>1</td>\n",
       "    </tr>\n",
       "    <tr>\n",
       "      <th>1</th>\n",
       "      <td>5.718</td>\n",
       "      <td>9.725</td>\n",
       "      <td>1</td>\n",
       "      <td>1</td>\n",
       "    </tr>\n",
       "    <tr>\n",
       "      <th>2</th>\n",
       "      <td>9.725</td>\n",
       "      <td>13.614</td>\n",
       "      <td>0</td>\n",
       "      <td>1</td>\n",
       "    </tr>\n",
       "    <tr>\n",
       "      <th>3</th>\n",
       "      <td>13.614</td>\n",
       "      <td>17.671</td>\n",
       "      <td>0</td>\n",
       "      <td>1</td>\n",
       "    </tr>\n",
       "    <tr>\n",
       "      <th>4</th>\n",
       "      <td>17.671</td>\n",
       "      <td>19.541</td>\n",
       "      <td>0</td>\n",
       "      <td>0</td>\n",
       "    </tr>\n",
       "  </tbody>\n",
       "</table>\n",
       "</div>"
      ],
      "text/plain": [
       "    start     end  cracks  wheezes\n",
       "0   1.862   5.718       0        1\n",
       "1   5.718   9.725       1        1\n",
       "2   9.725  13.614       0        1\n",
       "3  13.614  17.671       0        1\n",
       "4  17.671  19.541       0        0"
      ]
     },
     "execution_count": 14,
     "metadata": {},
     "output_type": "execute_result"
    }
   ],
   "source": [
    "df.head()"
   ]
  },
  {
   "cell_type": "code",
   "execution_count": 15,
   "id": "45824a73",
   "metadata": {},
   "outputs": [
    {
     "data": {
      "text/plain": [
       "['101_1b1_Al_sc_Meditron',\n",
       " '101_1b1_Pr_sc_Meditron',\n",
       " '102_1b1_Ar_sc_Meditron',\n",
       " '103_2b2_Ar_mc_LittC2SE',\n",
       " '104_1b1_Al_sc_Litt3200']"
      ]
     },
     "execution_count": 15,
     "metadata": {},
     "output_type": "execute_result"
    }
   ],
   "source": [
    "import os\n",
    "path = \"Respiratory_Sound_Database/audio_and_txt_files/\"\n",
    "files = [s.split('.')[0] for s in os.listdir(path) if '.txt' in s]\n",
    "files[:5]"
   ]
  },
  {
   "cell_type": "markdown",
   "id": "6ec58e46",
   "metadata": {},
   "source": [
    "Next, we'll make a list of our files and then get the information from these files (based on the filename) and we will store this information into a dataframe along with the other information"
   ]
  },
  {
   "cell_type": "code",
   "execution_count": 16,
   "id": "25159bb7",
   "metadata": {},
   "outputs": [],
   "source": [
    "def getFilenameInfo(file):\n",
    "    return file.split('_')"
   ]
  },
  {
   "cell_type": "code",
   "execution_count": 17,
   "id": "f4d6a3b3",
   "metadata": {},
   "outputs": [
    {
     "data": {
      "text/plain": [
       "['101', '1b1', 'Al', 'sc', 'Meditron']"
      ]
     },
     "execution_count": 17,
     "metadata": {},
     "output_type": "execute_result"
    }
   ],
   "source": [
    "getFilenameInfo('101_1b1_Al_sc_Meditron')"
   ]
  },
  {
   "cell_type": "code",
   "execution_count": 20,
   "id": "f1257887",
   "metadata": {},
   "outputs": [
    {
     "data": {
      "text/html": [
       "<div>\n",
       "<style scoped>\n",
       "    .dataframe tbody tr th:only-of-type {\n",
       "        vertical-align: middle;\n",
       "    }\n",
       "\n",
       "    .dataframe tbody tr th {\n",
       "        vertical-align: top;\n",
       "    }\n",
       "\n",
       "    .dataframe thead th {\n",
       "        text-align: right;\n",
       "    }\n",
       "</style>\n",
       "<table border=\"1\" class=\"dataframe\">\n",
       "  <thead>\n",
       "    <tr style=\"text-align: right;\">\n",
       "      <th></th>\n",
       "      <th>start</th>\n",
       "      <th>end</th>\n",
       "      <th>cracks</th>\n",
       "      <th>wheezes</th>\n",
       "      <th>pid</th>\n",
       "      <th>mode</th>\n",
       "      <th>filename</th>\n",
       "    </tr>\n",
       "  </thead>\n",
       "  <tbody>\n",
       "    <tr>\n",
       "      <th>0</th>\n",
       "      <td>0.036</td>\n",
       "      <td>0.579</td>\n",
       "      <td>0</td>\n",
       "      <td>0</td>\n",
       "      <td>101</td>\n",
       "      <td>sc</td>\n",
       "      <td>101_1b1_Al_sc_Meditron</td>\n",
       "    </tr>\n",
       "    <tr>\n",
       "      <th>1</th>\n",
       "      <td>0.579</td>\n",
       "      <td>2.450</td>\n",
       "      <td>0</td>\n",
       "      <td>0</td>\n",
       "      <td>101</td>\n",
       "      <td>sc</td>\n",
       "      <td>101_1b1_Al_sc_Meditron</td>\n",
       "    </tr>\n",
       "    <tr>\n",
       "      <th>2</th>\n",
       "      <td>2.450</td>\n",
       "      <td>3.893</td>\n",
       "      <td>0</td>\n",
       "      <td>0</td>\n",
       "      <td>101</td>\n",
       "      <td>sc</td>\n",
       "      <td>101_1b1_Al_sc_Meditron</td>\n",
       "    </tr>\n",
       "    <tr>\n",
       "      <th>3</th>\n",
       "      <td>3.893</td>\n",
       "      <td>5.793</td>\n",
       "      <td>0</td>\n",
       "      <td>0</td>\n",
       "      <td>101</td>\n",
       "      <td>sc</td>\n",
       "      <td>101_1b1_Al_sc_Meditron</td>\n",
       "    </tr>\n",
       "    <tr>\n",
       "      <th>4</th>\n",
       "      <td>5.793</td>\n",
       "      <td>7.521</td>\n",
       "      <td>0</td>\n",
       "      <td>0</td>\n",
       "      <td>101</td>\n",
       "      <td>sc</td>\n",
       "      <td>101_1b1_Al_sc_Meditron</td>\n",
       "    </tr>\n",
       "  </tbody>\n",
       "</table>\n",
       "</div>"
      ],
      "text/plain": [
       "   start    end  cracks  wheezes  pid mode                filename\n",
       "0  0.036  0.579       0        0  101   sc  101_1b1_Al_sc_Meditron\n",
       "1  0.579  2.450       0        0  101   sc  101_1b1_Al_sc_Meditron\n",
       "2  2.450  3.893       0        0  101   sc  101_1b1_Al_sc_Meditron\n",
       "3  3.893  5.793       0        0  101   sc  101_1b1_Al_sc_Meditron\n",
       "4  5.793  7.521       0        0  101   sc  101_1b1_Al_sc_Meditron"
      ]
     },
     "execution_count": 20,
     "metadata": {},
     "output_type": "execute_result"
    }
   ],
   "source": [
    "files_data = []\n",
    "\n",
    "for file in files:\n",
    "    data = pd.read_csv(path + file + '.txt', sep='\\t', names=['start', 'end', 'cracks', 'wheezes'])\n",
    "    name_data = getFilenameInfo(file)\n",
    "    data['pid'] = name_data[0]\n",
    "    data['mode'] = name_data[-2]\n",
    "    data['filename'] = file\n",
    "    files_data.append(data)\n",
    "\n",
    "files_df = pd.concat(files_data)\n",
    "files_df.reset_index()\n",
    "files_df.head()"
   ]
  },
  {
   "cell_type": "code",
   "execution_count": 19,
   "id": "e2c1b232",
   "metadata": {},
   "outputs": [
    {
     "name": "stdout",
     "output_type": "stream",
     "text": [
      "<class 'pandas.core.frame.DataFrame'>\n",
      "RangeIndex: 126 entries, 0 to 125\n",
      "Data columns (total 2 columns):\n",
      " #   Column   Non-Null Count  Dtype \n",
      "---  ------   --------------  ----- \n",
      " 0   pid      126 non-null    int64 \n",
      " 1   disease  126 non-null    object\n",
      "dtypes: int64(1), object(1)\n",
      "memory usage: 2.1+ KB\n"
     ]
    }
   ],
   "source": [
    "patient_data.info()       # view the data types of our patient dataframe"
   ]
  },
  {
   "cell_type": "code",
   "execution_count": 21,
   "id": "892e0236",
   "metadata": {},
   "outputs": [
    {
     "name": "stdout",
     "output_type": "stream",
     "text": [
      "<class 'pandas.core.frame.DataFrame'>\n",
      "Int64Index: 6898 entries, 0 to 10\n",
      "Data columns (total 7 columns):\n",
      " #   Column    Non-Null Count  Dtype  \n",
      "---  ------    --------------  -----  \n",
      " 0   start     6898 non-null   float64\n",
      " 1   end       6898 non-null   float64\n",
      " 2   cracks    6898 non-null   int64  \n",
      " 3   wheezes   6898 non-null   int64  \n",
      " 4   pid       6898 non-null   object \n",
      " 5   mode      6898 non-null   object \n",
      " 6   filename  6898 non-null   object \n",
      "dtypes: float64(2), int64(2), object(3)\n",
      "memory usage: 431.1+ KB\n"
     ]
    }
   ],
   "source": [
    "files_df.info()         # view the data types of our newly created dataframe"
   ]
  },
  {
   "cell_type": "code",
   "execution_count": 24,
   "id": "838c8632",
   "metadata": {},
   "outputs": [],
   "source": [
    "patient_data.pid = patient_data.pid.astype('int32')     # we want to change our patient id from an object to an integer\n",
    "files_df.pid = files_df.pid.astype('int32')"
   ]
  },
  {
   "cell_type": "code",
   "execution_count": 26,
   "id": "9dd5a015",
   "metadata": {},
   "outputs": [
    {
     "data": {
      "text/html": [
       "<div>\n",
       "<style scoped>\n",
       "    .dataframe tbody tr th:only-of-type {\n",
       "        vertical-align: middle;\n",
       "    }\n",
       "\n",
       "    .dataframe tbody tr th {\n",
       "        vertical-align: top;\n",
       "    }\n",
       "\n",
       "    .dataframe thead th {\n",
       "        text-align: right;\n",
       "    }\n",
       "</style>\n",
       "<table border=\"1\" class=\"dataframe\">\n",
       "  <thead>\n",
       "    <tr style=\"text-align: right;\">\n",
       "      <th></th>\n",
       "      <th>start</th>\n",
       "      <th>end</th>\n",
       "      <th>crackles</th>\n",
       "      <th>weezels</th>\n",
       "      <th>pid</th>\n",
       "      <th>mode</th>\n",
       "      <th>filename</th>\n",
       "      <th>disease</th>\n",
       "    </tr>\n",
       "  </thead>\n",
       "  <tbody>\n",
       "    <tr>\n",
       "      <th>0</th>\n",
       "      <td>0.036</td>\n",
       "      <td>0.579</td>\n",
       "      <td>0</td>\n",
       "      <td>0</td>\n",
       "      <td>101</td>\n",
       "      <td>sc</td>\n",
       "      <td>101_1b1_Al_sc_Meditron</td>\n",
       "      <td>URTI</td>\n",
       "    </tr>\n",
       "    <tr>\n",
       "      <th>1</th>\n",
       "      <td>0.579</td>\n",
       "      <td>2.450</td>\n",
       "      <td>0</td>\n",
       "      <td>0</td>\n",
       "      <td>101</td>\n",
       "      <td>sc</td>\n",
       "      <td>101_1b1_Al_sc_Meditron</td>\n",
       "      <td>URTI</td>\n",
       "    </tr>\n",
       "    <tr>\n",
       "      <th>2</th>\n",
       "      <td>2.450</td>\n",
       "      <td>3.893</td>\n",
       "      <td>0</td>\n",
       "      <td>0</td>\n",
       "      <td>101</td>\n",
       "      <td>sc</td>\n",
       "      <td>101_1b1_Al_sc_Meditron</td>\n",
       "      <td>URTI</td>\n",
       "    </tr>\n",
       "    <tr>\n",
       "      <th>3</th>\n",
       "      <td>3.893</td>\n",
       "      <td>5.793</td>\n",
       "      <td>0</td>\n",
       "      <td>0</td>\n",
       "      <td>101</td>\n",
       "      <td>sc</td>\n",
       "      <td>101_1b1_Al_sc_Meditron</td>\n",
       "      <td>URTI</td>\n",
       "    </tr>\n",
       "    <tr>\n",
       "      <th>4</th>\n",
       "      <td>5.793</td>\n",
       "      <td>7.521</td>\n",
       "      <td>0</td>\n",
       "      <td>0</td>\n",
       "      <td>101</td>\n",
       "      <td>sc</td>\n",
       "      <td>101_1b1_Al_sc_Meditron</td>\n",
       "      <td>URTI</td>\n",
       "    </tr>\n",
       "  </tbody>\n",
       "</table>\n",
       "</div>"
      ],
      "text/plain": [
       "   start    end  crackles  weezels  pid mode                filename disease\n",
       "0  0.036  0.579         0        0  101   sc  101_1b1_Al_sc_Meditron    URTI\n",
       "1  0.579  2.450         0        0  101   sc  101_1b1_Al_sc_Meditron    URTI\n",
       "2  2.450  3.893         0        0  101   sc  101_1b1_Al_sc_Meditron    URTI\n",
       "3  3.893  5.793         0        0  101   sc  101_1b1_Al_sc_Meditron    URTI\n",
       "4  5.793  7.521         0        0  101   sc  101_1b1_Al_sc_Meditron    URTI"
      ]
     },
     "execution_count": 26,
     "metadata": {},
     "output_type": "execute_result"
    }
   ],
   "source": [
    "data = pd.merge(files_df, patient_data, on='pid')      # then we merge our two dataframe on patient id\n",
    "data.head()"
   ]
  },
  {
   "cell_type": "code",
   "execution_count": 27,
   "id": "e6ca80bd",
   "metadata": {},
   "outputs": [],
   "source": [
    "os.makedirs('csv_data')                                   # we make a new directory and file for this information\n",
    "data.to_csv('csv_data/data.csv', index=False)"
   ]
  },
  {
   "cell_type": "code",
   "execution_count": 28,
   "id": "9d384846",
   "metadata": {},
   "outputs": [],
   "source": [
    "## Processing Audio Files"
   ]
  },
  {
   "cell_type": "markdown",
   "id": "61db8611",
   "metadata": {},
   "source": [
    "Utilize our start and end times to make sure that we only grab the parts of the file that contain the respiratory cycles. <br>\n",
    "We'll multiply the start index by the sampling rate because the start is measured in time and the array is sampled according to the sampling rate <br>"
   ]
  },
  {
   "cell_type": "code",
   "execution_count": 29,
   "id": "e2202f92",
   "metadata": {},
   "outputs": [],
   "source": [
    "def getPureSample(raw_data, start, end, sr=22050):\n",
    "   \n",
    "    '''\n",
    "    Splits a numpy array into start and end args\n",
    "    \n",
    "    raw_data = numpy array of audio sample\n",
    "    start = start time\n",
    "    end = end time\n",
    "    sr = sampling_rate\n",
    "    mode = mono/stereo\n",
    "    '''\n",
    "    \n",
    "    max_ind = len(raw_data)\n",
    "    start_ind = min(int(start*sr), max_ind)\n",
    "    end_ind = min(int(end*sr), max_ind)\n",
    "    \n",
    "    return raw_data[start_ind: end_ind]"
   ]
  },
  {
   "cell_type": "markdown",
   "id": "6a39efc5",
   "metadata": {},
   "source": [
    "It's super important that our images to be fed into the CNN are the same size. For this reason, the audio files must be the same size. \n",
    "<br>\n",
    "As we see in the scatterplot and boxplot below, this is not currently the case. "
   ]
  },
  {
   "cell_type": "code",
   "execution_count": 30,
   "id": "87d0e568",
   "metadata": {},
   "outputs": [
    {
     "data": {
      "text/plain": [
       "<AxesSubplot:ylabel='pid'>"
      ]
     },
     "execution_count": 30,
     "metadata": {},
     "output_type": "execute_result"
    },
    {
     "data": {
      "image/png": "[encoded data removed]",
      "text/plain": [
       "<Figure size 432x288 with 1 Axes>"
      ]
     },
     "metadata": {
      "needs_background": "light"
     },
     "output_type": "display_data"
    }
   ],
   "source": [
    "sns.scatterplot(x=(data.end-data.start), y = data.pid)"
   ]
  },
  {
   "cell_type": "code",
   "execution_count": 32,
   "id": "9076657d",
   "metadata": {},
   "outputs": [
    {
     "data": {
      "text/plain": [
       "<AxesSubplot:>"
      ]
     },
     "execution_count": 32,
     "metadata": {},
     "output_type": "execute_result"
    },
    {
     "data": {
      "image/png": "[encoded data removed]",
      "text/plain": [
       "<Figure size 432x288 with 1 Axes>"
      ]
     },
     "metadata": {
      "needs_background": "light"
     },
     "output_type": "display_data"
    }
   ],
   "source": [
    "sns.boxplot(y=data.end-data.start)"
   ]
  },
  {
   "cell_type": "markdown",
   "id": "a6277145",
   "metadata": {},
   "source": [
    "In order to normalize the lengths, we'll add a zero pad (which is basically silence) to the file \n",
    "We'll choose a size of 6 based on the boxplot above. "
   ]
  },
  {
   "cell_type": "code",
   "execution_count": 33,
   "id": "955e3553",
   "metadata": {},
   "outputs": [],
   "source": [
    "os.makedirs('processed_audio_files')        # make new directory"
   ]
  },
  {
   "cell_type": "code",
   "execution_count": 22,
   "id": "412c9dc1",
   "metadata": {},
   "outputs": [
    {
     "name": "stdout",
     "output_type": "stream",
     "text": [
      "Index --> 0\n",
      "Data --> \n",
      " start                        0.036\n",
      "end                          1.207\n",
      "cracks                           0\n",
      "wheezes                          0\n",
      "pid                            226\n",
      "mode                            sc\n",
      "filename    226_1b1_Pl_sc_LittC2SE\n",
      "Name: 0, dtype: object\n"
     ]
    }
   ],
   "source": [
    "for index, row in data.iterrows():           \n",
    "    print('Index -->', index)\n",
    "    print('Data --> \\n', row)\n",
    "    break"
   ]
  },
  {
   "cell_type": "markdown",
   "id": "23d49e9c",
   "metadata": {},
   "source": [
    "Librosa will be used for loading audio files <br>\n",
    "Soundfile will be used to write the file to the output"
   ]
  },
  {
   "cell_type": "code",
   "execution_count": 37,
   "id": "80cf95e1",
   "metadata": {},
   "outputs": [
    {
     "name": "stdout",
     "output_type": "stream",
     "text": [
      "Total Files Processed:  6898\n"
     ]
    }
   ],
   "source": [
    "import librosa as lb\n",
    "import soundfile as sf\n",
    "\n",
    "i,c = 0,0\n",
    "\n",
    "for index, row in data.iterrows():\n",
    "    maxLen=6\n",
    "    start=row['start']\n",
    "    end=row['end']\n",
    "    filename = row['filename']\n",
    "    \n",
    "    if end-start > maxLen:\n",
    "        end = start + maxLen\n",
    "        \n",
    "    audio_file_loc = path + filename + '.wav'\n",
    "    \n",
    "    if index > 0:\n",
    "        \n",
    "        if data.iloc[index-1]['filename'] == filename:\n",
    "            i += 1\n",
    "        else:\n",
    "            i = 0\n",
    "    \n",
    "    \n",
    "    filename = filename + '_' + str(i) + '.wav'\n",
    "    \n",
    "    save_path = 'processed_audio_files/' + filename\n",
    "    c += 1\n",
    "    \n",
    "    audioArr,sampleRate=lb.load(audio_file_loc)\n",
    "    pureSample=getPureSample(audioArr,start,end,sampleRate)\n",
    "    \n",
    "    #pad audio if pureSample len < max_len\n",
    "    reqLen=6*sampleRate\n",
    "    padded_data = lb.util.pad_center(pureSample, reqLen)\n",
    "    \n",
    "    sf.write(file=save_path,data=padded_data,samplerate=sampleRate)\n",
    "print('Total Files Processed: ',c)"
   ]
  },
  {
   "cell_type": "code",
   "execution_count": 27,
   "id": "f2bf9af7",
   "metadata": {},
   "outputs": [
    {
     "data": {
      "text/html": [
       "<div>\n",
       "<style scoped>\n",
       "    .dataframe tbody tr th:only-of-type {\n",
       "        vertical-align: middle;\n",
       "    }\n",
       "\n",
       "    .dataframe tbody tr th {\n",
       "        vertical-align: top;\n",
       "    }\n",
       "\n",
       "    .dataframe thead th {\n",
       "        text-align: right;\n",
       "    }\n",
       "</style>\n",
       "<table border=\"1\" class=\"dataframe\">\n",
       "  <thead>\n",
       "    <tr style=\"text-align: right;\">\n",
       "      <th></th>\n",
       "      <th>pid</th>\n",
       "      <th>disease</th>\n",
       "    </tr>\n",
       "  </thead>\n",
       "  <tbody>\n",
       "    <tr>\n",
       "      <th>0</th>\n",
       "      <td>101</td>\n",
       "      <td>URTI</td>\n",
       "    </tr>\n",
       "    <tr>\n",
       "      <th>1</th>\n",
       "      <td>102</td>\n",
       "      <td>Healthy</td>\n",
       "    </tr>\n",
       "    <tr>\n",
       "      <th>2</th>\n",
       "      <td>103</td>\n",
       "      <td>Asthma</td>\n",
       "    </tr>\n",
       "    <tr>\n",
       "      <th>3</th>\n",
       "      <td>104</td>\n",
       "      <td>COPD</td>\n",
       "    </tr>\n",
       "    <tr>\n",
       "      <th>4</th>\n",
       "      <td>105</td>\n",
       "      <td>URTI</td>\n",
       "    </tr>\n",
       "  </tbody>\n",
       "</table>\n",
       "</div>"
      ],
      "text/plain": [
       "   pid  disease\n",
       "0  101     URTI\n",
       "1  102  Healthy\n",
       "2  103   Asthma\n",
       "3  104     COPD\n",
       "4  105     URTI"
      ]
     },
     "execution_count": 27,
     "metadata": {},
     "output_type": "execute_result"
    }
   ],
   "source": [
    "diagnosis = pd.read_csv('Respiratory_Sound_Database/patient_diagnosis.csv', names=['pid', 'disease'])    # we have also created a diagnosis dataframe\n",
    "diagnosis.head()"
   ]
  },
  {
   "cell_type": "markdown",
   "id": "2ef87cca",
   "metadata": {},
   "source": [
    "Based on the countplot below, we see that our data is very heavily skewed to COPD which of course is not ideal"
   ]
  },
  {
   "cell_type": "code",
   "execution_count": 25,
   "id": "ae84999c",
   "metadata": {},
   "outputs": [
    {
     "data": {
      "text/plain": [
       "(array([ 0., 10., 20., 30., 40., 50., 60., 70.]),\n",
       " [Text(0, 0, ''),\n",
       "  Text(0, 0, ''),\n",
       "  Text(0, 0, ''),\n",
       "  Text(0, 0, ''),\n",
       "  Text(0, 0, ''),\n",
       "  Text(0, 0, ''),\n",
       "  Text(0, 0, ''),\n",
       "  Text(0, 0, '')])"
      ]
     },
     "execution_count": 25,
     "metadata": {},
     "output_type": "execute_result"
    },
    {
     "data": {
      "image/png": "[encoded data removed]",
      "text/plain": [
       "<Figure size 432x288 with 1 Axes>"
      ]
     },
     "metadata": {
      "needs_background": "light"
     },
     "output_type": "display_data"
    }
   ],
   "source": [
    "sns.countplot(y = diagnosis.disease)\n",
    "plt.xticks(rotation=90)"
   ]
  },
  {
   "cell_type": "code",
   "execution_count": 28,
   "id": "ab044840",
   "metadata": {},
   "outputs": [],
   "source": [
    "def extractId(filename):\n",
    "    return filename.split('_')[0]"
   ]
  },
  {
   "cell_type": "code",
   "execution_count": 29,
   "id": "f302c23b",
   "metadata": {},
   "outputs": [
    {
     "data": {
      "text/html": [
       "<div>\n",
       "<style scoped>\n",
       "    .dataframe tbody tr th:only-of-type {\n",
       "        vertical-align: middle;\n",
       "    }\n",
       "\n",
       "    .dataframe tbody tr th {\n",
       "        vertical-align: top;\n",
       "    }\n",
       "\n",
       "    .dataframe thead th {\n",
       "        text-align: right;\n",
       "    }\n",
       "</style>\n",
       "<table border=\"1\" class=\"dataframe\">\n",
       "  <thead>\n",
       "    <tr style=\"text-align: right;\">\n",
       "      <th></th>\n",
       "      <th>pid</th>\n",
       "      <th>filename</th>\n",
       "    </tr>\n",
       "  </thead>\n",
       "  <tbody>\n",
       "    <tr>\n",
       "      <th>0</th>\n",
       "      <td>101</td>\n",
       "      <td>101_1b1_Al_sc_Meditron_0.wav</td>\n",
       "    </tr>\n",
       "    <tr>\n",
       "      <th>1</th>\n",
       "      <td>101</td>\n",
       "      <td>101_1b1_Al_sc_Meditron_1.wav</td>\n",
       "    </tr>\n",
       "    <tr>\n",
       "      <th>2</th>\n",
       "      <td>101</td>\n",
       "      <td>101_1b1_Al_sc_Meditron_10.wav</td>\n",
       "    </tr>\n",
       "    <tr>\n",
       "      <th>3</th>\n",
       "      <td>101</td>\n",
       "      <td>101_1b1_Al_sc_Meditron_11.wav</td>\n",
       "    </tr>\n",
       "    <tr>\n",
       "      <th>4</th>\n",
       "      <td>101</td>\n",
       "      <td>101_1b1_Al_sc_Meditron_2.wav</td>\n",
       "    </tr>\n",
       "  </tbody>\n",
       "</table>\n",
       "</div>"
      ],
      "text/plain": [
       "   pid                       filename\n",
       "0  101   101_1b1_Al_sc_Meditron_0.wav\n",
       "1  101   101_1b1_Al_sc_Meditron_1.wav\n",
       "2  101  101_1b1_Al_sc_Meditron_10.wav\n",
       "3  101  101_1b1_Al_sc_Meditron_11.wav\n",
       "4  101   101_1b1_Al_sc_Meditron_2.wav"
      ]
     },
     "execution_count": 29,
     "metadata": {},
     "output_type": "execute_result"
    }
   ],
   "source": [
    "path = 'processed_audio_files/'                                         \n",
    "\n",
    "length=len(os.listdir(path))\n",
    "index=range(length)\n",
    "i=0\n",
    "files_df=pd.DataFrame(index=index,columns=['pid','filename'])\n",
    "for f in os.listdir(path):\n",
    "    files_df.iloc[i]['pid']=extractId(f)\n",
    "    files_df.iloc[i]['filename']=f\n",
    "    i+=1\n",
    "files_df.head()"
   ]
  },
  {
   "cell_type": "code",
   "execution_count": 30,
   "id": "9e9e1bb4",
   "metadata": {},
   "outputs": [],
   "source": [
    "files_df.pid = files_df.pid.astype('int64')"
   ]
  },
  {
   "cell_type": "code",
   "execution_count": 31,
   "id": "b9712ec5",
   "metadata": {},
   "outputs": [
    {
     "data": {
      "text/html": [
       "<div>\n",
       "<style scoped>\n",
       "    .dataframe tbody tr th:only-of-type {\n",
       "        vertical-align: middle;\n",
       "    }\n",
       "\n",
       "    .dataframe tbody tr th {\n",
       "        vertical-align: top;\n",
       "    }\n",
       "\n",
       "    .dataframe thead th {\n",
       "        text-align: right;\n",
       "    }\n",
       "</style>\n",
       "<table border=\"1\" class=\"dataframe\">\n",
       "  <thead>\n",
       "    <tr style=\"text-align: right;\">\n",
       "      <th></th>\n",
       "      <th>pid</th>\n",
       "      <th>filename</th>\n",
       "      <th>disease</th>\n",
       "    </tr>\n",
       "  </thead>\n",
       "  <tbody>\n",
       "    <tr>\n",
       "      <th>0</th>\n",
       "      <td>101</td>\n",
       "      <td>101_1b1_Al_sc_Meditron_0.wav</td>\n",
       "      <td>URTI</td>\n",
       "    </tr>\n",
       "    <tr>\n",
       "      <th>1</th>\n",
       "      <td>101</td>\n",
       "      <td>101_1b1_Al_sc_Meditron_1.wav</td>\n",
       "      <td>URTI</td>\n",
       "    </tr>\n",
       "    <tr>\n",
       "      <th>2</th>\n",
       "      <td>101</td>\n",
       "      <td>101_1b1_Al_sc_Meditron_10.wav</td>\n",
       "      <td>URTI</td>\n",
       "    </tr>\n",
       "    <tr>\n",
       "      <th>3</th>\n",
       "      <td>101</td>\n",
       "      <td>101_1b1_Al_sc_Meditron_11.wav</td>\n",
       "      <td>URTI</td>\n",
       "    </tr>\n",
       "    <tr>\n",
       "      <th>4</th>\n",
       "      <td>101</td>\n",
       "      <td>101_1b1_Al_sc_Meditron_2.wav</td>\n",
       "      <td>URTI</td>\n",
       "    </tr>\n",
       "  </tbody>\n",
       "</table>\n",
       "</div>"
      ],
      "text/plain": [
       "   pid                       filename disease\n",
       "0  101   101_1b1_Al_sc_Meditron_0.wav    URTI\n",
       "1  101   101_1b1_Al_sc_Meditron_1.wav    URTI\n",
       "2  101  101_1b1_Al_sc_Meditron_10.wav    URTI\n",
       "3  101  101_1b1_Al_sc_Meditron_11.wav    URTI\n",
       "4  101   101_1b1_Al_sc_Meditron_2.wav    URTI"
      ]
     },
     "execution_count": 31,
     "metadata": {},
     "output_type": "execute_result"
    }
   ],
   "source": [
    "data = pd.merge(files_df, diagnosis, on='pid')                  # this will be ideal to extract files during modeling\n",
    "data.head()"
   ]
  },
  {
   "cell_type": "code",
   "execution_count": 32,
   "id": "cb1e30d6",
   "metadata": {},
   "outputs": [
    {
     "name": "stderr",
     "output_type": "stream",
     "text": [
      "C:\\Users\\alexi\\anaconda3\\lib\\site-packages\\seaborn\\_decorators.py:36: FutureWarning: Pass the following variable as a keyword arg: x. From version 0.12, the only valid positional argument will be `data`, and passing other arguments without an explicit keyword will result in an error or misinterpretation.\n",
      "  warnings.warn(\n"
     ]
    },
    {
     "data": {
      "text/plain": [
       "(array([0, 1, 2, 3, 4, 5, 6, 7]),\n",
       " [Text(0, 0, 'URTI'),\n",
       "  Text(1, 0, 'Healthy'),\n",
       "  Text(2, 0, 'Asthma'),\n",
       "  Text(3, 0, 'COPD'),\n",
       "  Text(4, 0, 'LRTI'),\n",
       "  Text(5, 0, 'Bronchiectasis'),\n",
       "  Text(6, 0, 'Pneumonia'),\n",
       "  Text(7, 0, 'Bronchiolitis')])"
      ]
     },
     "execution_count": 32,
     "metadata": {},
     "output_type": "execute_result"
    },
    {
     "data": {
      "image/png": "[encoded data removed]",
      "text/plain": [
       "<Figure size 432x288 with 1 Axes>"
      ]
     },
     "metadata": {
      "needs_background": "light"
     },
     "output_type": "display_data"
    }
   ],
   "source": [
    "sns.countplot(data.disease)\n",
    "plt.xticks(rotation=90)"
   ]
  },
  {
   "cell_type": "markdown",
   "id": "cb48c5bf",
   "metadata": {},
   "source": [
    "Let's create our train and test datasets beforehand"
   ]
  },
  {
   "cell_type": "code",
   "execution_count": 33,
   "id": "aaa40ef4",
   "metadata": {},
   "outputs": [],
   "source": [
    "from sklearn.model_selection import train_test_split\n",
    "Xtrain, Xval, ytrain, yval=train_test_split(data,data.disease,stratify=data.disease,random_state=42,test_size=0.2)"
   ]
  },
  {
   "cell_type": "code",
   "execution_count": 34,
   "id": "613c21ba",
   "metadata": {
    "scrolled": true
   },
   "outputs": [
    {
     "data": {
      "text/plain": [
       "COPD              0.832910\n",
       "Healthy           0.046756\n",
       "Pneumonia         0.041319\n",
       "URTI              0.035158\n",
       "Bronchiolitis     0.023197\n",
       "Bronchiectasis    0.015042\n",
       "LRTI              0.004712\n",
       "Asthma            0.000906\n",
       "Name: disease, dtype: float64"
      ]
     },
     "execution_count": 34,
     "metadata": {},
     "output_type": "execute_result"
    }
   ],
   "source": [
    "Xtrain.disease.value_counts()/Xtrain.shape[0]"
   ]
  },
  {
   "cell_type": "code",
   "execution_count": 35,
   "id": "efea3333",
   "metadata": {},
   "outputs": [
    {
     "data": {
      "text/plain": [
       "COPD              0.833333\n",
       "Healthy           0.046377\n",
       "Pneumonia         0.041304\n",
       "URTI              0.035507\n",
       "Bronchiolitis     0.023188\n",
       "Bronchiectasis    0.015217\n",
       "LRTI              0.004348\n",
       "Asthma            0.000725\n",
       "Name: disease, dtype: float64"
      ]
     },
     "execution_count": 35,
     "metadata": {},
     "output_type": "execute_result"
    }
   ],
   "source": [
    "Xval.disease.value_counts()/Xval.shape[0]"
   ]
  },
  {
   "cell_type": "code",
   "execution_count": 38,
   "id": "515bf7c1",
   "metadata": {},
   "outputs": [
    {
     "data": {
      "text/plain": [
       "[Text(0.5, 1.0, 'MFCC')]"
      ]
     },
     "execution_count": 38,
     "metadata": {},
     "output_type": "execute_result"
    },
    {
     "data": {
      "image/png": "[encoded data removed]",
      "text/plain": [
       "<Figure size 432x288 with 2 Axes>"
      ]
     },
     "metadata": {
      "needs_background": "light"
     },
     "output_type": "display_data"
    }
   ],
   "source": [
    "path='processed_audio_files/'             # sample MFCC on one of our files\n",
    "\n",
    "import librosa.display\n",
    "file=path + Xtrain.iloc[193].filename \n",
    "sound,sample_rate=lb.load(file)\n",
    "mfccs = lb.feature.mfcc(y=sound, sr=sample_rate, n_mfcc=40)\n",
    "fig, ax = plt.subplots()\n",
    "img = librosa.display.specshow(mfccs, x_axis='time', ax=ax)\n",
    "fig.colorbar(img, ax=ax)\n",
    "ax.set(title='MFCC')"
   ]
  },
  {
   "cell_type": "code",
   "execution_count": 57,
   "id": "3722178a",
   "metadata": {},
   "outputs": [],
   "source": [
    "Xtrain.to_csv('train.csv')                  # creating our files\n",
    "Xval.to_csv('val.csv')"
   ]
  },
  {
   "cell_type": "code",
   "execution_count": 39,
   "id": "b2bf9984",
   "metadata": {},
   "outputs": [
    {
     "data": {
      "text/html": [
       "<div>\n",
       "<style scoped>\n",
       "    .dataframe tbody tr th:only-of-type {\n",
       "        vertical-align: middle;\n",
       "    }\n",
       "\n",
       "    .dataframe tbody tr th {\n",
       "        vertical-align: top;\n",
       "    }\n",
       "\n",
       "    .dataframe thead th {\n",
       "        text-align: right;\n",
       "    }\n",
       "</style>\n",
       "<table border=\"1\" class=\"dataframe\">\n",
       "  <thead>\n",
       "    <tr style=\"text-align: right;\">\n",
       "      <th></th>\n",
       "      <th>Unnamed: 0</th>\n",
       "      <th>pid</th>\n",
       "      <th>filename</th>\n",
       "      <th>disease</th>\n",
       "    </tr>\n",
       "  </thead>\n",
       "  <tbody>\n",
       "    <tr>\n",
       "      <th>0</th>\n",
       "      <td>2562</td>\n",
       "      <td>151</td>\n",
       "      <td>151_2p3_Lr_mc_AKGC417L_4.wav</td>\n",
       "      <td>COPD</td>\n",
       "    </tr>\n",
       "    <tr>\n",
       "      <th>1</th>\n",
       "      <td>2536</td>\n",
       "      <td>151</td>\n",
       "      <td>151_2p2_Tc_mc_AKGC417L_2.wav</td>\n",
       "      <td>COPD</td>\n",
       "    </tr>\n",
       "    <tr>\n",
       "      <th>2</th>\n",
       "      <td>6893</td>\n",
       "      <td>226</td>\n",
       "      <td>226_1b1_Pl_sc_LittC2SE_5.wav</td>\n",
       "      <td>Pneumonia</td>\n",
       "    </tr>\n",
       "    <tr>\n",
       "      <th>3</th>\n",
       "      <td>5089</td>\n",
       "      <td>191</td>\n",
       "      <td>191_2b1_Pr_mc_LittC2SE_0.wav</td>\n",
       "      <td>Pneumonia</td>\n",
       "    </tr>\n",
       "    <tr>\n",
       "      <th>4</th>\n",
       "      <td>1897</td>\n",
       "      <td>138</td>\n",
       "      <td>138_1p2_Pl_mc_AKGC417L_3.wav</td>\n",
       "      <td>COPD</td>\n",
       "    </tr>\n",
       "  </tbody>\n",
       "</table>\n",
       "</div>"
      ],
      "text/plain": [
       "   Unnamed: 0  pid                      filename    disease\n",
       "0        2562  151  151_2p3_Lr_mc_AKGC417L_4.wav       COPD\n",
       "1        2536  151  151_2p2_Tc_mc_AKGC417L_2.wav       COPD\n",
       "2        6893  226  226_1b1_Pl_sc_LittC2SE_5.wav  Pneumonia\n",
       "3        5089  191  191_2b1_Pr_mc_LittC2SE_0.wav  Pneumonia\n",
       "4        1897  138  138_1p2_Pl_mc_AKGC417L_3.wav       COPD"
      ]
     },
     "execution_count": 39,
     "metadata": {},
     "output_type": "execute_result"
    }
   ],
   "source": [
    "train = pd.read_csv('train.csv')\n",
    "val = pd.read_csv('val.csv')\n",
    "train.head()"
   ]
  },
  {
   "cell_type": "code",
   "execution_count": 40,
   "id": "86e290f2",
   "metadata": {},
   "outputs": [
    {
     "data": {
      "text/plain": [
       "0                COPD\n",
       "1                LRTI\n",
       "2             Healthy\n",
       "3                COPD\n",
       "4                COPD\n",
       "            ...      \n",
       "1375    Bronchiolitis\n",
       "1376             URTI\n",
       "1377             COPD\n",
       "1378             COPD\n",
       "1379             COPD\n",
       "Name: disease, Length: 1380, dtype: object"
      ]
     },
     "execution_count": 40,
     "metadata": {},
     "output_type": "execute_result"
    }
   ],
   "source": [
    "ytrain = train.disease\n",
    "yval = val.disease\n",
    "yval"
   ]
  }
 ],
 "metadata": {
  "kernelspec": {
   "display_name": "Python 3 (ipykernel)",
   "language": "python",
   "name": "python3"
  },
  "language_info": {
   "codemirror_mode": {
    "name": "ipython",
    "version": 3
   },
   "file_extension": ".py",
   "mimetype": "text/x-python",
   "name": "python",
   "nbconvert_exporter": "python",
   "pygments_lexer": "ipython3",
   "version": "3.9.7"
  }
 },
 "nbformat": 4,
 "nbformat_minor": 5
}
